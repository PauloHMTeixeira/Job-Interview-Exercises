{
  "nbformat": 4,
  "nbformat_minor": 0,
  "metadata": {
    "colab": {
      "provenance": []
    },
    "kernelspec": {
      "name": "python3",
      "display_name": "Python 3"
    },
    "language_info": {
      "name": "python"
    }
  },
  "cells": [
    {
      "cell_type": "code",
      "execution_count": null,
      "metadata": {
        "colab": {
          "base_uri": "https://localhost:8080/",
          "height": 534
        },
        "id": "z_Re7tumD4N0",
        "outputId": "f234309b-2bd2-4b1c-bcc1-09f06a66de98"
      },
      "outputs": [
        {
          "output_type": "stream",
          "name": "stdout",
          "text": [
            "Points not needed to define the same polygon:\n",
            "(1, 2)\n",
            "(2, 3)\n",
            "(3, 3)\n",
            "(2, 2)\n",
            "(1, 1)\n"
          ]
        },
        {
          "output_type": "display_data",
          "data": {
            "text/plain": [
              "<Figure size 640x480 with 1 Axes>"
            ],
            "image/png": "[encoded data removed]"
          },
          "metadata": {}
        }
      ],
      "source": [
        "import matplotlib.pyplot as plt\n",
        "from scipy.spatial import ConvexHull\n",
        "\n",
        "points = [(1, 1), (1, 2), (1, 3), (2, 3), (2, 4), (3, 4), (3, 3), (3, 2), (2, 2), (2, 1), (1, 1)]\n",
        "\n",
        "# Find the convex hull of the points\n",
        "hull = ConvexHull(points)\n",
        "\n",
        "# Extract the indices of points on the convex hull\n",
        "hull_indices = hull.vertices\n",
        "\n",
        "# Create a list of points that are not needed\n",
        "points_not_needed = [points[i] for i in range(len(points)) if i not in hull_indices]\n",
        "\n",
        "# Print the points that are not needed so it can be checked\n",
        "print(\"Points not needed to define the same polygon:\")\n",
        "for point in points_not_needed:\n",
        "    print(point)\n",
        "\n",
        "# Plot the original points and the reduced polyogon (convex hull) for visualization\n",
        "plt.plot(*zip(*points), marker='o', label='Original Points')\n",
        "plt.plot(*zip(*[points[i] for i in hull_indices] + [points[hull_indices[0]]]), linestyle='-', color='red', label='Convex Hull')\n",
        "plt.legend()\n",
        "plt.show()"
      ]
    },
    {
      "cell_type": "code",
      "source": [
        "# Problem 1: Polygon Optimisation -> b) answer.\n",
        "\n",
        "# About to use the same code above but with a small difference at the end to match the question need.\n",
        "\n",
        "import numpy as np\n",
        "\n",
        "def reduce_polygon(points):\n",
        "    # Find the convex hull of the points\n",
        "    hull = ConvexHull(points)\n",
        "\n",
        "    # Extract the indices of points on the convex hull\n",
        "    hull_indices = hull.vertices\n",
        "\n",
        "    # Create a list of points that are not needed\n",
        "    points_not_needed = [points[i] for i in range(len(points)) if i not in hull_indices]\n",
        "\n",
        "    # Return a reduced list that defines the same Polygon (this one is sorted in counterclockwise order).\n",
        "    return [points[i] for i in hull_indices]\n",
        "\n",
        "# Show it working:\n",
        "points = [(1, 1), (1, 2), (1, 3), (2, 3), (2, 4), (3, 4), (3, 3), (3, 2), (2, 2), (2, 1), (1, 1)]\n",
        "reduced_points = reduce_polygon(points)\n",
        "print(\"Reduced Polygon Points:\")\n",
        "print(reduced_points)"
      ],
      "metadata": {
        "colab": {
          "base_uri": "https://localhost:8080/"
        },
        "id": "GGmpk9LlJVJQ",
        "outputId": "1e0f7060-5fd5-4e5c-9ce1-fc26fee351a0"
      },
      "execution_count": null,
      "outputs": [
        {
          "output_type": "stream",
          "name": "stdout",
          "text": [
            "Reduced Polygon Points:\n",
            "[(3, 4), (2, 4), (1, 3), (1, 1), (2, 1), (3, 2)]\n"
          ]
        }
      ]
    },
    {
      "cell_type": "code",
      "source": [
        "# Problem 2: Incorrect syntax with brackets -> a) answer.\n",
        "\n",
        "def is_valid_syntax(s):\n",
        "    # Create an empty list to store opening brackets\n",
        "    stack = []\n",
        "\n",
        "    # Define a dictionary to map closing brackets to their corresponding opening brackets\n",
        "    bracket_map = {')': '(', '}': '{', ']': '['}\n",
        "\n",
        "    # Iterate through each character in the input string\n",
        "    for char in s:\n",
        "        # If the character is an opening bracket, push it onto the list\n",
        "        if char in '({[':\n",
        "            stack.append(char)\n",
        "        # If the character is a closing bracket\n",
        "        elif char in ')}]':\n",
        "            # Check if the list is empty (no corresponding opening bracket)\n",
        "            if not stack:\n",
        "                return False\n",
        "            # Pop the top element from the list\n",
        "            top_element = stack.pop()\n",
        "            # Check if the popped element matches the expected opening bracket\n",
        "            if bracket_map[char] != top_element:\n",
        "                return False\n",
        "\n",
        "    # After processing all characters, the list should be empty if syntax is correct\n",
        "    return len(stack) == 0\n",
        "\n",
        "# Example usage:\n",
        "input_string = \"{({})}\"\n",
        "result = is_valid_syntax(input_string)\n",
        "if result:\n",
        "    print(\"The syntax is valid.\")\n",
        "else:\n",
        "    print(\"The syntax is not valid.\")"
      ],
      "metadata": {
        "colab": {
          "base_uri": "https://localhost:8080/"
        },
        "id": "dqXzuDHpNlLX",
        "outputId": "1e4ae41e-4ed3-4a4d-d3c1-6ae8b7f1afbf"
      },
      "execution_count": null,
      "outputs": [
        {
          "output_type": "stream",
          "name": "stdout",
          "text": [
            "The syntax is valid.\n"
          ]
        }
      ]
    }
  ]
}